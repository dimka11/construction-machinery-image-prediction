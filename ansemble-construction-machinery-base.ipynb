{
 "cells": [
  {
   "cell_type": "code",
   "execution_count": 1,
   "id": "f10e47b7",
   "metadata": {
    "_cell_guid": "b1076dfc-b9ad-4769-8c92-a6c4dae69d19",
    "_uuid": "8f2839f25d086af736a60e9eeb907d3b93b6e0e5",
    "execution": {
     "iopub.execute_input": "2022-11-06T16:03:39.804300Z",
     "iopub.status.busy": "2022-11-06T16:03:39.803936Z",
     "iopub.status.idle": "2022-11-06T16:03:40.753404Z",
     "shell.execute_reply": "2022-11-06T16:03:40.752282Z"
    },
    "papermill": {
     "duration": 0.958347,
     "end_time": "2022-11-06T16:03:40.755623",
     "exception": false,
     "start_time": "2022-11-06T16:03:39.797276",
     "status": "completed"
    },
    "tags": []
   },
   "outputs": [],
   "source": [
    "import numpy as np\n",
    "import pandas as pd\n",
    "import os\n",
    "from sklearn.metrics import recall_score\n",
    "from sklearn.model_selection import train_test_split\n",
    "from sklearn.metrics import accuracy_score\n",
    "from sklearn.metrics import f1_score\n",
    "from sklearn.metrics import confusion_matrix\n",
    "from PIL import Image\n",
    "from IPython.display import display\n",
    "from pathlib import Path\n",
    "\n",
    "import seaborn as sn\n",
    "import matplotlib.pyplot as plt"
   ]
  },
  {
   "cell_type": "markdown",
   "id": "6a3f0a89",
   "metadata": {
    "papermill": {
     "duration": 0.003307,
     "end_time": "2022-11-06T16:03:40.762888",
     "exception": false,
     "start_time": "2022-11-06T16:03:40.759581",
     "status": "completed"
    },
    "tags": []
   },
   "source": [
    "Metric:\n",
    "\n",
    "Recall"
   ]
  },
  {
   "cell_type": "code",
   "execution_count": 2,
   "id": "9f351971",
   "metadata": {
    "execution": {
     "iopub.execute_input": "2022-11-06T16:03:40.771762Z",
     "iopub.status.busy": "2022-11-06T16:03:40.770899Z",
     "iopub.status.idle": "2022-11-06T16:03:40.796902Z",
     "shell.execute_reply": "2022-11-06T16:03:40.796115Z"
    },
    "papermill": {
     "duration": 0.032711,
     "end_time": "2022-11-06T16:03:40.799130",
     "exception": false,
     "start_time": "2022-11-06T16:03:40.766419",
     "status": "completed"
    },
    "tags": []
   },
   "outputs": [],
   "source": [
    "test = pd.read_csv('../input/construction-machinery-cls/test_dataset_test/test.csv')"
   ]
  },
  {
   "cell_type": "code",
   "execution_count": 3,
   "id": "5833f2da",
   "metadata": {
    "execution": {
     "iopub.execute_input": "2022-11-06T16:03:40.807806Z",
     "iopub.status.busy": "2022-11-06T16:03:40.807483Z",
     "iopub.status.idle": "2022-11-06T16:03:40.822729Z",
     "shell.execute_reply": "2022-11-06T16:03:40.821866Z"
    },
    "papermill": {
     "duration": 0.021675,
     "end_time": "2022-11-06T16:03:40.824715",
     "exception": false,
     "start_time": "2022-11-06T16:03:40.803040",
     "status": "completed"
    },
    "tags": []
   },
   "outputs": [
    {
     "data": {
      "text/html": [
       "<div>\n",
       "<style scoped>\n",
       "    .dataframe tbody tr th:only-of-type {\n",
       "        vertical-align: middle;\n",
       "    }\n",
       "\n",
       "    .dataframe tbody tr th {\n",
       "        vertical-align: top;\n",
       "    }\n",
       "\n",
       "    .dataframe thead th {\n",
       "        text-align: right;\n",
       "    }\n",
       "</style>\n",
       "<table border=\"1\" class=\"dataframe\">\n",
       "  <thead>\n",
       "    <tr style=\"text-align: right;\">\n",
       "      <th></th>\n",
       "      <th>ID_img</th>\n",
       "      <th>class</th>\n",
       "    </tr>\n",
       "  </thead>\n",
       "  <tbody>\n",
       "    <tr>\n",
       "      <th>0</th>\n",
       "      <td>0.jpg</td>\n",
       "      <td>0</td>\n",
       "    </tr>\n",
       "    <tr>\n",
       "      <th>1</th>\n",
       "      <td>1.jpg</td>\n",
       "      <td>0</td>\n",
       "    </tr>\n",
       "    <tr>\n",
       "      <th>2</th>\n",
       "      <td>2.jpg</td>\n",
       "      <td>0</td>\n",
       "    </tr>\n",
       "    <tr>\n",
       "      <th>3</th>\n",
       "      <td>3.jpg</td>\n",
       "      <td>0</td>\n",
       "    </tr>\n",
       "    <tr>\n",
       "      <th>4</th>\n",
       "      <td>4.jpg</td>\n",
       "      <td>0</td>\n",
       "    </tr>\n",
       "  </tbody>\n",
       "</table>\n",
       "</div>"
      ],
      "text/plain": [
       "  ID_img  class\n",
       "0  0.jpg      0\n",
       "1  1.jpg      0\n",
       "2  2.jpg      0\n",
       "3  3.jpg      0\n",
       "4  4.jpg      0"
      ]
     },
     "execution_count": 3,
     "metadata": {},
     "output_type": "execute_result"
    }
   ],
   "source": [
    "test.head(5)"
   ]
  },
  {
   "cell_type": "markdown",
   "id": "1ffb5334",
   "metadata": {
    "papermill": {
     "duration": 0.00362,
     "end_time": "2022-11-06T16:03:40.832449",
     "exception": false,
     "start_time": "2022-11-06T16:03:40.828829",
     "status": "completed"
    },
    "tags": []
   },
   "source": [
    "Ansemble most frequently of 4 models prediction"
   ]
  },
  {
   "cell_type": "code",
   "execution_count": 4,
   "id": "9e6f0ff7",
   "metadata": {
    "execution": {
     "iopub.execute_input": "2022-11-06T16:03:40.841973Z",
     "iopub.status.busy": "2022-11-06T16:03:40.841192Z",
     "iopub.status.idle": "2022-11-06T16:03:40.882029Z",
     "shell.execute_reply": "2022-11-06T16:03:40.881158Z"
    },
    "papermill": {
     "duration": 0.04792,
     "end_time": "2022-11-06T16:03:40.884226",
     "exception": false,
     "start_time": "2022-11-06T16:03:40.836306",
     "status": "completed"
    },
    "tags": []
   },
   "outputs": [],
   "source": [
    "model_0_preds = pd.read_csv('../input/construction-machinery-base-csv-npy/base_80epoch.csv')\n",
    "model_1_preds = pd.read_csv('../input/construction-machinery-base-csv-npy/beit_90epoch.csv')\n",
    "model_2_preds = pd.read_csv('../input/construction-machinery-base-csv-npy/swin_90epoch.csv')\n",
    "model_3_preds = pd.read_csv('../input/construction-machinery-base-csv-npy/conv_90epoch.csv')\n",
    "model_4_preds = pd.read_csv('../input/construction-machinery-base-csv-npy/vit_90epoch.csv')"
   ]
  },
  {
   "cell_type": "code",
   "execution_count": 5,
   "id": "bdf416ec",
   "metadata": {
    "execution": {
     "iopub.execute_input": "2022-11-06T16:03:40.893834Z",
     "iopub.status.busy": "2022-11-06T16:03:40.893368Z",
     "iopub.status.idle": "2022-11-06T16:03:40.905792Z",
     "shell.execute_reply": "2022-11-06T16:03:40.904739Z"
    },
    "papermill": {
     "duration": 0.019238,
     "end_time": "2022-11-06T16:03:40.907610",
     "exception": false,
     "start_time": "2022-11-06T16:03:40.888372",
     "status": "completed"
    },
    "tags": []
   },
   "outputs": [],
   "source": [
    "ansemble_1_preds = model_0_preds.copy()\n",
    "ansemble_1_preds['class_0'] = model_1_preds['class']\n",
    "ansemble_1_preds['class_1'] = model_2_preds['class']\n",
    "ansemble_1_preds['class_2'] = model_3_preds['class']\n",
    "ansemble_1_preds['class_3'] = model_4_preds['class']"
   ]
  },
  {
   "cell_type": "code",
   "execution_count": 6,
   "id": "5a3309bf",
   "metadata": {
    "execution": {
     "iopub.execute_input": "2022-11-06T16:03:40.917583Z",
     "iopub.status.busy": "2022-11-06T16:03:40.917018Z",
     "iopub.status.idle": "2022-11-06T16:03:40.933173Z",
     "shell.execute_reply": "2022-11-06T16:03:40.932325Z"
    },
    "papermill": {
     "duration": 0.022974,
     "end_time": "2022-11-06T16:03:40.934991",
     "exception": false,
     "start_time": "2022-11-06T16:03:40.912017",
     "status": "completed"
    },
    "tags": []
   },
   "outputs": [
    {
     "data": {
      "text/html": [
       "<div>\n",
       "<style scoped>\n",
       "    .dataframe tbody tr th:only-of-type {\n",
       "        vertical-align: middle;\n",
       "    }\n",
       "\n",
       "    .dataframe tbody tr th {\n",
       "        vertical-align: top;\n",
       "    }\n",
       "\n",
       "    .dataframe thead th {\n",
       "        text-align: right;\n",
       "    }\n",
       "</style>\n",
       "<table border=\"1\" class=\"dataframe\">\n",
       "  <thead>\n",
       "    <tr style=\"text-align: right;\">\n",
       "      <th></th>\n",
       "      <th>ID_img</th>\n",
       "      <th>class</th>\n",
       "      <th>path</th>\n",
       "      <th>class_0</th>\n",
       "      <th>class_1</th>\n",
       "      <th>class_2</th>\n",
       "      <th>class_3</th>\n",
       "    </tr>\n",
       "  </thead>\n",
       "  <tbody>\n",
       "    <tr>\n",
       "      <th>0</th>\n",
       "      <td>0.jpg</td>\n",
       "      <td>5</td>\n",
       "      <td>../input/construction-machinery-cls/test_datas...</td>\n",
       "      <td>5</td>\n",
       "      <td>5</td>\n",
       "      <td>5</td>\n",
       "      <td>5</td>\n",
       "    </tr>\n",
       "    <tr>\n",
       "      <th>1</th>\n",
       "      <td>1.jpg</td>\n",
       "      <td>2</td>\n",
       "      <td>../input/construction-machinery-cls/test_datas...</td>\n",
       "      <td>7</td>\n",
       "      <td>5</td>\n",
       "      <td>5</td>\n",
       "      <td>5</td>\n",
       "    </tr>\n",
       "    <tr>\n",
       "      <th>2</th>\n",
       "      <td>2.jpg</td>\n",
       "      <td>1</td>\n",
       "      <td>../input/construction-machinery-cls/test_datas...</td>\n",
       "      <td>1</td>\n",
       "      <td>1</td>\n",
       "      <td>1</td>\n",
       "      <td>1</td>\n",
       "    </tr>\n",
       "    <tr>\n",
       "      <th>3</th>\n",
       "      <td>3.jpg</td>\n",
       "      <td>1</td>\n",
       "      <td>../input/construction-machinery-cls/test_datas...</td>\n",
       "      <td>3</td>\n",
       "      <td>3</td>\n",
       "      <td>1</td>\n",
       "      <td>1</td>\n",
       "    </tr>\n",
       "    <tr>\n",
       "      <th>4</th>\n",
       "      <td>4.jpg</td>\n",
       "      <td>6</td>\n",
       "      <td>../input/construction-machinery-cls/test_datas...</td>\n",
       "      <td>6</td>\n",
       "      <td>6</td>\n",
       "      <td>6</td>\n",
       "      <td>6</td>\n",
       "    </tr>\n",
       "    <tr>\n",
       "      <th>...</th>\n",
       "      <td>...</td>\n",
       "      <td>...</td>\n",
       "      <td>...</td>\n",
       "      <td>...</td>\n",
       "      <td>...</td>\n",
       "      <td>...</td>\n",
       "      <td>...</td>\n",
       "    </tr>\n",
       "    <tr>\n",
       "      <th>2133</th>\n",
       "      <td>2133.jpg</td>\n",
       "      <td>4</td>\n",
       "      <td>../input/construction-machinery-cls/test_datas...</td>\n",
       "      <td>4</td>\n",
       "      <td>4</td>\n",
       "      <td>4</td>\n",
       "      <td>4</td>\n",
       "    </tr>\n",
       "    <tr>\n",
       "      <th>2134</th>\n",
       "      <td>2134.jpg</td>\n",
       "      <td>1</td>\n",
       "      <td>../input/construction-machinery-cls/test_datas...</td>\n",
       "      <td>1</td>\n",
       "      <td>1</td>\n",
       "      <td>1</td>\n",
       "      <td>1</td>\n",
       "    </tr>\n",
       "    <tr>\n",
       "      <th>2135</th>\n",
       "      <td>2135.jpg</td>\n",
       "      <td>1</td>\n",
       "      <td>../input/construction-machinery-cls/test_datas...</td>\n",
       "      <td>1</td>\n",
       "      <td>1</td>\n",
       "      <td>1</td>\n",
       "      <td>1</td>\n",
       "    </tr>\n",
       "    <tr>\n",
       "      <th>2136</th>\n",
       "      <td>2136.jpg</td>\n",
       "      <td>3</td>\n",
       "      <td>../input/construction-machinery-cls/test_datas...</td>\n",
       "      <td>3</td>\n",
       "      <td>3</td>\n",
       "      <td>3</td>\n",
       "      <td>3</td>\n",
       "    </tr>\n",
       "    <tr>\n",
       "      <th>2137</th>\n",
       "      <td>2137.jpg</td>\n",
       "      <td>0</td>\n",
       "      <td>../input/construction-machinery-cls/test_datas...</td>\n",
       "      <td>0</td>\n",
       "      <td>0</td>\n",
       "      <td>0</td>\n",
       "      <td>0</td>\n",
       "    </tr>\n",
       "  </tbody>\n",
       "</table>\n",
       "<p>2138 rows × 7 columns</p>\n",
       "</div>"
      ],
      "text/plain": [
       "        ID_img  class                                               path  \\\n",
       "0        0.jpg      5  ../input/construction-machinery-cls/test_datas...   \n",
       "1        1.jpg      2  ../input/construction-machinery-cls/test_datas...   \n",
       "2        2.jpg      1  ../input/construction-machinery-cls/test_datas...   \n",
       "3        3.jpg      1  ../input/construction-machinery-cls/test_datas...   \n",
       "4        4.jpg      6  ../input/construction-machinery-cls/test_datas...   \n",
       "...        ...    ...                                                ...   \n",
       "2133  2133.jpg      4  ../input/construction-machinery-cls/test_datas...   \n",
       "2134  2134.jpg      1  ../input/construction-machinery-cls/test_datas...   \n",
       "2135  2135.jpg      1  ../input/construction-machinery-cls/test_datas...   \n",
       "2136  2136.jpg      3  ../input/construction-machinery-cls/test_datas...   \n",
       "2137  2137.jpg      0  ../input/construction-machinery-cls/test_datas...   \n",
       "\n",
       "      class_0  class_1  class_2  class_3  \n",
       "0           5        5        5        5  \n",
       "1           7        5        5        5  \n",
       "2           1        1        1        1  \n",
       "3           3        3        1        1  \n",
       "4           6        6        6        6  \n",
       "...       ...      ...      ...      ...  \n",
       "2133        4        4        4        4  \n",
       "2134        1        1        1        1  \n",
       "2135        1        1        1        1  \n",
       "2136        3        3        3        3  \n",
       "2137        0        0        0        0  \n",
       "\n",
       "[2138 rows x 7 columns]"
      ]
     },
     "execution_count": 6,
     "metadata": {},
     "output_type": "execute_result"
    }
   ],
   "source": [
    "ansemble_1_preds"
   ]
  },
  {
   "cell_type": "code",
   "execution_count": 7,
   "id": "a4686c78",
   "metadata": {
    "execution": {
     "iopub.execute_input": "2022-11-06T16:03:40.944522Z",
     "iopub.status.busy": "2022-11-06T16:03:40.944078Z",
     "iopub.status.idle": "2022-11-06T16:03:40.950724Z",
     "shell.execute_reply": "2022-11-06T16:03:40.949708Z"
    },
    "papermill": {
     "duration": 0.013277,
     "end_time": "2022-11-06T16:03:40.952499",
     "exception": false,
     "start_time": "2022-11-06T16:03:40.939222",
     "status": "completed"
    },
    "tags": []
   },
   "outputs": [],
   "source": [
    "ansemble_1_preds = ansemble_1_preds.drop(columns=['path'])"
   ]
  },
  {
   "cell_type": "code",
   "execution_count": 8,
   "id": "747c5cea",
   "metadata": {
    "execution": {
     "iopub.execute_input": "2022-11-06T16:03:40.961780Z",
     "iopub.status.busy": "2022-11-06T16:03:40.961420Z",
     "iopub.status.idle": "2022-11-06T16:03:41.665777Z",
     "shell.execute_reply": "2022-11-06T16:03:41.664614Z"
    },
    "papermill": {
     "duration": 0.71188,
     "end_time": "2022-11-06T16:03:41.668315",
     "exception": false,
     "start_time": "2022-11-06T16:03:40.956435",
     "status": "completed"
    },
    "tags": []
   },
   "outputs": [
    {
     "data": {
      "text/html": [
       "<div>\n",
       "<style scoped>\n",
       "    .dataframe tbody tr th:only-of-type {\n",
       "        vertical-align: middle;\n",
       "    }\n",
       "\n",
       "    .dataframe tbody tr th {\n",
       "        vertical-align: top;\n",
       "    }\n",
       "\n",
       "    .dataframe thead th {\n",
       "        text-align: right;\n",
       "    }\n",
       "</style>\n",
       "<table border=\"1\" class=\"dataframe\">\n",
       "  <thead>\n",
       "    <tr style=\"text-align: right;\">\n",
       "      <th></th>\n",
       "      <th>ID_img</th>\n",
       "      <th>class</th>\n",
       "    </tr>\n",
       "  </thead>\n",
       "  <tbody>\n",
       "    <tr>\n",
       "      <th>0</th>\n",
       "      <td>0.jpg</td>\n",
       "      <td>5</td>\n",
       "    </tr>\n",
       "    <tr>\n",
       "      <th>1</th>\n",
       "      <td>1.jpg</td>\n",
       "      <td>5</td>\n",
       "    </tr>\n",
       "    <tr>\n",
       "      <th>2</th>\n",
       "      <td>2.jpg</td>\n",
       "      <td>1</td>\n",
       "    </tr>\n",
       "    <tr>\n",
       "      <th>3</th>\n",
       "      <td>3.jpg</td>\n",
       "      <td>1</td>\n",
       "    </tr>\n",
       "    <tr>\n",
       "      <th>4</th>\n",
       "      <td>4.jpg</td>\n",
       "      <td>6</td>\n",
       "    </tr>\n",
       "  </tbody>\n",
       "</table>\n",
       "</div>"
      ],
      "text/plain": [
       "  ID_img  class\n",
       "0  0.jpg      5\n",
       "1  1.jpg      5\n",
       "2  2.jpg      1\n",
       "3  3.jpg      1\n",
       "4  4.jpg      6"
      ]
     },
     "execution_count": 8,
     "metadata": {},
     "output_type": "execute_result"
    }
   ],
   "source": [
    "test['class'] = ansemble_1_preds.mode(axis=1)[0]\n",
    "test.head(5)"
   ]
  },
  {
   "cell_type": "code",
   "execution_count": 9,
   "id": "671c81b7",
   "metadata": {
    "execution": {
     "iopub.execute_input": "2022-11-06T16:03:41.678614Z",
     "iopub.status.busy": "2022-11-06T16:03:41.677932Z",
     "iopub.status.idle": "2022-11-06T16:03:41.686230Z",
     "shell.execute_reply": "2022-11-06T16:03:41.685354Z"
    },
    "papermill": {
     "duration": 0.015212,
     "end_time": "2022-11-06T16:03:41.688085",
     "exception": false,
     "start_time": "2022-11-06T16:03:41.672873",
     "status": "completed"
    },
    "tags": []
   },
   "outputs": [],
   "source": [
    "test.to_csv('ansemble_mode.csv', index=False)"
   ]
  },
  {
   "cell_type": "markdown",
   "id": "4fd6dbfc",
   "metadata": {
    "papermill": {
     "duration": 0.004057,
     "end_time": "2022-11-06T16:03:41.696590",
     "exception": false,
     "start_time": "2022-11-06T16:03:41.692533",
     "status": "completed"
    },
    "tags": []
   },
   "source": [
    "Anseble of best probability class of 4 models"
   ]
  },
  {
   "cell_type": "code",
   "execution_count": 10,
   "id": "687fc2b5",
   "metadata": {
    "execution": {
     "iopub.execute_input": "2022-11-06T16:03:41.706183Z",
     "iopub.status.busy": "2022-11-06T16:03:41.705877Z",
     "iopub.status.idle": "2022-11-06T16:03:41.734208Z",
     "shell.execute_reply": "2022-11-06T16:03:41.733361Z"
    },
    "papermill": {
     "duration": 0.035287,
     "end_time": "2022-11-06T16:03:41.736030",
     "exception": false,
     "start_time": "2022-11-06T16:03:41.700743",
     "status": "completed"
    },
    "tags": []
   },
   "outputs": [],
   "source": [
    "model_1 = np.load('../input/construction-machinery-base-csv-npy/beit_preds.npy', allow_pickle=True)\n",
    "model_2 = np.load('../input/construction-machinery-base-csv-npy/swin_preds.npy', allow_pickle=True)\n",
    "model_3 = np.load('../input/construction-machinery-base-csv-npy/conv_preds.npy', allow_pickle=True)\n",
    "model_4 = np.load('../input/construction-machinery-base-csv-npy/vit_preds.npy', allow_pickle=True)"
   ]
  },
  {
   "cell_type": "code",
   "execution_count": 11,
   "id": "c71fbab4",
   "metadata": {
    "execution": {
     "iopub.execute_input": "2022-11-06T16:03:41.745988Z",
     "iopub.status.busy": "2022-11-06T16:03:41.745684Z",
     "iopub.status.idle": "2022-11-06T16:03:41.750076Z",
     "shell.execute_reply": "2022-11-06T16:03:41.749307Z"
    },
    "papermill": {
     "duration": 0.011013,
     "end_time": "2022-11-06T16:03:41.751631",
     "exception": false,
     "start_time": "2022-11-06T16:03:41.740618",
     "status": "completed"
    },
    "tags": []
   },
   "outputs": [],
   "source": [
    "all_preds = np.concatenate([model_1[0], model_2[0], model_3[0], model_4[0]], axis=1)"
   ]
  },
  {
   "cell_type": "code",
   "execution_count": 12,
   "id": "e48c9f97",
   "metadata": {
    "execution": {
     "iopub.execute_input": "2022-11-06T16:03:41.761587Z",
     "iopub.status.busy": "2022-11-06T16:03:41.761303Z",
     "iopub.status.idle": "2022-11-06T16:03:41.765538Z",
     "shell.execute_reply": "2022-11-06T16:03:41.764782Z"
    },
    "papermill": {
     "duration": 0.01069,
     "end_time": "2022-11-06T16:03:41.767138",
     "exception": false,
     "start_time": "2022-11-06T16:03:41.756448",
     "status": "completed"
    },
    "tags": []
   },
   "outputs": [],
   "source": [
    "ansemle_preds = np.argmax(all_preds, axis=1) % 8"
   ]
  },
  {
   "cell_type": "code",
   "execution_count": 13,
   "id": "2e28f15e",
   "metadata": {
    "execution": {
     "iopub.execute_input": "2022-11-06T16:03:41.776215Z",
     "iopub.status.busy": "2022-11-06T16:03:41.775951Z",
     "iopub.status.idle": "2022-11-06T16:03:41.782907Z",
     "shell.execute_reply": "2022-11-06T16:03:41.782122Z"
    },
    "papermill": {
     "duration": 0.013343,
     "end_time": "2022-11-06T16:03:41.784536",
     "exception": false,
     "start_time": "2022-11-06T16:03:41.771193",
     "status": "completed"
    },
    "tags": []
   },
   "outputs": [],
   "source": [
    "test['class'] = ansemle_preds\n",
    "test.to_csv('ansemble_prob.csv', index=False)"
   ]
  }
 ],
 "metadata": {
  "kernelspec": {
   "display_name": "Python 3",
   "language": "python",
   "name": "python3"
  },
  "language_info": {
   "codemirror_mode": {
    "name": "ipython",
    "version": 3
   },
   "file_extension": ".py",
   "mimetype": "text/x-python",
   "name": "python",
   "nbconvert_exporter": "python",
   "pygments_lexer": "ipython3",
   "version": "3.7.12"
  },
  "papermill": {
   "default_parameters": {},
   "duration": 9.014248,
   "end_time": "2022-11-06T16:03:42.406608",
   "environment_variables": {},
   "exception": null,
   "input_path": "__notebook__.ipynb",
   "output_path": "__notebook__.ipynb",
   "parameters": {},
   "start_time": "2022-11-06T16:03:33.392360",
   "version": "2.3.4"
  }
 },
 "nbformat": 4,
 "nbformat_minor": 5
}
